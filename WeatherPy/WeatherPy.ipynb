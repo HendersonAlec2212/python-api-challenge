{
 "cells": [
  {
   "cell_type": "code",
   "execution_count": 3,
   "id": "08eeb3a9",
   "metadata": {},
   "outputs": [
    {
     "data": {
      "text/plain": [
       "'C:\\\\Users\\\\Alec\\\\Documents\\\\Programming Resources\\\\Boot Camp\\\\06_API\\\\06_API_Homework\\\\WeatherPy'"
      ]
     },
     "execution_count": 3,
     "metadata": {},
     "output_type": "execute_result"
    }
   ],
   "source": [
    "# import dependencies\n",
    "\n",
    "import pandas as pd\n",
    "import matplotlib.pyplot as plt\n",
    "import requests\n",
    "import time\n",
    "import numpy as np\n",
    "import json\n",
    "import random\n",
    "from tqdm.notebook import tqdm\n",
    "\n",
    "from scipy.stats import linregress\n",
    "import os\n",
    "\n",
    "# API key\n",
    "from config import weather_api_key\n",
    "\n",
    "# Incorporated citipy to determine city based on latitude and longitude\n",
    "from citipy import citipy\n",
    "\n",
    "# Output File (CSV)\n",
    "output_data_file = \"output_data/cities.csv\"\n",
    "\n",
    "os.getcwd()"
   ]
  },
  {
   "cell_type": "markdown",
   "id": "32eea9ea",
   "metadata": {},
   "source": [
    "# Generate Cities List"
   ]
  },
  {
   "cell_type": "code",
   "execution_count": 4,
   "id": "1c8108f6",
   "metadata": {},
   "outputs": [
    {
     "data": {
      "text/plain": [
       "626"
      ]
     },
     "execution_count": 4,
     "metadata": {},
     "output_type": "execute_result"
    }
   ],
   "source": [
    "# Range of latitudes and longitudes\n",
    "lat_range = (-90, 90)\n",
    "lng_range = (-180, 180)\n",
    "\n",
    "# List for holding lat_lngs and cities\n",
    "lat_lngs = []\n",
    "cities = []\n",
    "\n",
    "# Create a set of random lat and lng combinations\n",
    "lats = np.random.uniform(lat_range[0], lat_range[1], size=1500)\n",
    "lngs = np.random.uniform(lng_range[0], lng_range[1], size=1500)\n",
    "\n",
    "# turn list results into tuples for later use\n",
    "lat_lngs = zip(lats, lngs)\n",
    "\n",
    "# Identify nearest city for each lat, lng combination\n",
    "for lat_lng in lat_lngs:\n",
    "    city = citipy.nearest_city(lat_lng[0], lat_lng[1]).city_name\n",
    "    \n",
    "    # If the city is unique, then add it to a our cities list\n",
    "    if city not in cities:\n",
    "        cities.append(city)\n",
    "\n",
    "# Print the city count to confirm sufficient count\n",
    "len(cities)"
   ]
  },
  {
   "cell_type": "markdown",
   "id": "b5165ea4",
   "metadata": {},
   "source": [
    "# Perform API Calls\n",
    "\n"
   ]
  },
  {
   "cell_type": "code",
   "execution_count": 5,
   "id": "5361d2f3",
   "metadata": {},
   "outputs": [],
   "source": [
    "# for i in tqdm(range(100)):\n",
    "#     sleep(3)"
   ]
  },
  {
   "cell_type": "code",
   "execution_count": 37,
   "id": "4d7fbcc2",
   "metadata": {},
   "outputs": [
    {
     "name": "stdout",
     "output_type": "stream",
     "text": [
      "-------------------- Starting Search --------------------\n",
      "Searching for City 1 of Item Set 1 | aksu\n",
      "City Info Not Found, Moving on...\n",
      "------------------- Data Grab Complete -------------------\n"
     ]
    }
   ],
   "source": [
    "# Perform a weather check on each city using a series of successive API calls.\n",
    "\n",
    "units = 'metric'\n",
    "base_url = 'http://api.openweathermap.org/data/2.5/weather?'\n",
    "query_url = f\"{base_url}appid={weather_api_key}&units={units}&q=\"\n",
    "\n",
    "first_city = cities[0]\n",
    "# test .get to see if all is well\n",
    "# response = requests.get(query_url + cities[0]).json()\n",
    "# print(json.dumps(response, indent=4, sort_keys=True))\n",
    "\n",
    "# make a list to store returned values 6.2_04\n",
    "city_data = []\n",
    "\n",
    "# set value counters outside of loop to start off correctly\n",
    "# humans start at 1 \n",
    "city_count = 1\n",
    "item_set = 1\n",
    "\n",
    "sample_cities = random.sample(cities, 1)\n",
    "\n",
    "print('-------------------- Starting Search --------------------')\n",
    "\n",
    "# https://realpython.com/python-enumerate/\n",
    "for i, city in enumerate(sample_cities):\n",
    "    \n",
    "    # the homework used record sets of 50, lets do that as well.\n",
    "    # if the index value in the list leaves a 0 remainder after div. by 50 AND index value is >=50\n",
    "    # then\n",
    "    # increase the item_set by 1 and restart the item_count at 0\n",
    "    # this effictively relabels the \"sublists\" we are creating using enumerate\n",
    "    if (i % 50 == 0 and i>=50):\n",
    "        item_set += 1\n",
    "        city_count = 0\n",
    "    \n",
    "    # else: print the search start banner and begin the loops using the enumerated cities\n",
    "    \n",
    "    # setting the new url using basic concatenation allows for new values per loop without tracking\n",
    "    # counts per city\n",
    "    city_search_url = query_url + city\n",
    "    \n",
    "    \n",
    "    # Include a print log of each city as it's being processed (with the city number and city name).\n",
    "    print(f\"Searching for City {city_count} of Item Set {item_set} | {city}\")\n",
    "        \n",
    "    \n",
    "    # add 1 to the city_count to keep the loop rolling\n",
    "    city_count += 1\n",
    "    \n",
    "    # start API calls, remember the try: except:\n",
    "    try:\n",
    "\n",
    "        #print(\"the try loop was successful\")\n",
    "        weather_data = requests.get(city_search_url).json()\n",
    "        \n",
    "        # collect all of the data ( see test sample for index/key values and table)\n",
    "        city_name = weather_data['main']['name']\n",
    "        city_lat = weather_data['coord']['lat']\n",
    "        city_lng = weather_data['coord']['lon']\n",
    "        city_max_temp = weather_data['main']['temp_max']\n",
    "        city_humidity = weather_data['main']['humidity']\n",
    "        city_couds = weather_data['clouds']['all']\n",
    "        city_wind_spd = weather_data['wind']['speed']\n",
    "        city_country = weather_data['sys']['country']\n",
    "        city_date = weather_data['dt']\n",
    "        \n",
    "        # add data to list as it collects\n",
    "        city_data.append({\n",
    "            \"City\": city_name,\n",
    "            \"Latitude\":city_lat,\n",
    "            \"Longitude\":city_lng,\n",
    "            \"Max Temp\":city_max_temp,\n",
    "            \"Humidity\":city_humidity,\n",
    "            \"Cloudiness\":city_couds,\n",
    "            \"Wind Speed\":city_wind_spd,\n",
    "            \"Country\":city_country,\n",
    "            \"Date\":city_date,})\n",
    "        \n",
    "    \n",
    "    except:\n",
    "            \n",
    "            print(\"City Info Not Found, Moving on...\")\n",
    "            pass\n",
    "print(\"------------------- Data Grab Complete -------------------\")"
   ]
  },
  {
   "cell_type": "code",
   "execution_count": 38,
   "id": "3295da4d",
   "metadata": {},
   "outputs": [
    {
     "data": {
      "text/plain": [
       "{'coord': {'lon': 80.2644, 'lat': 41.1231},\n",
       " 'weather': [{'id': 804,\n",
       "   'main': 'Clouds',\n",
       "   'description': 'overcast clouds',\n",
       "   'icon': '04n'}],\n",
       " 'base': 'stations',\n",
       " 'main': {'temp': 14.5,\n",
       "  'feels_like': 12.48,\n",
       "  'temp_min': 14.5,\n",
       "  'temp_max': 14.5,\n",
       "  'pressure': 1019,\n",
       "  'humidity': 18,\n",
       "  'sea_level': 1019,\n",
       "  'grnd_level': 896},\n",
       " 'visibility': 10000,\n",
       " 'wind': {'speed': 2.12, 'deg': 101, 'gust': 2.19},\n",
       " 'clouds': {'all': 100},\n",
       " 'dt': 1634578062,\n",
       " 'sys': {'country': 'CN', 'sunrise': 1634604873, 'sunset': 1634644379},\n",
       " 'timezone': 28800,\n",
       " 'id': 1529660,\n",
       " 'name': 'Aksu',\n",
       " 'cod': 200}"
      ]
     },
     "execution_count": 38,
     "metadata": {},
     "output_type": "execute_result"
    }
   ],
   "source": [
    "weather_data"
   ]
  },
  {
   "cell_type": "code",
   "execution_count": 39,
   "id": "d3efba4d",
   "metadata": {},
   "outputs": [
    {
     "data": {
      "text/plain": [
       "[]"
      ]
     },
     "execution_count": 39,
     "metadata": {},
     "output_type": "execute_result"
    }
   ],
   "source": [
    "city_data"
   ]
  },
  {
   "cell_type": "code",
   "execution_count": null,
   "id": "1241e75e",
   "metadata": {},
   "outputs": [],
   "source": []
  },
  {
   "cell_type": "markdown",
   "id": "1c68f75d",
   "metadata": {},
   "source": [
    "# weather test sample - delete b4 submission"
   ]
  },
  {
   "cell_type": "code",
   "execution_count": null,
   "id": "a3c189f1",
   "metadata": {},
   "outputs": [],
   "source": [
    "# {\n",
    "#     \"base\": \"stations\",\n",
    "#     \"clouds\": {\n",
    "#         \"all\": 78\n",
    "#     },\n",
    "#     \"cod\": 200,\n",
    "#     \"coord\": {\n",
    "#         \"lat\": 19.9711,\n",
    "#         \"lon\": -96.6114\n",
    "#     },\n",
    "#     \"dt\": 1634571186,\n",
    "#     \"id\": 3514843,\n",
    "#     \"main\": {\n",
    "#         \"feels_like\": 25.62,\n",
    "#         \"grnd_level\": 1012,\n",
    "#         \"humidity\": 63,\n",
    "#         \"pressure\": 1019,\n",
    "#         \"sea_level\": 1019,\n",
    "#         \"temp\": 25.38,\n",
    "#         \"temp_max\": 25.38,\n",
    "#         \"temp_min\": 25.38\n",
    "#     },\n",
    "#     \"name\": \"Emilio Carranza\",\n",
    "#     \"sys\": {\n",
    "#         \"country\": \"MX\",\n",
    "#         \"sunrise\": 1634559729,\n",
    "#         \"sunset\": 1634601635\n",
    "#     },\n",
    "#     \"timezone\": -18000,\n",
    "#     \"visibility\": 10000,\n",
    "#     \"weather\": [\n",
    "#         {\n",
    "#             \"description\": \"broken clouds\",\n",
    "#             \"icon\": \"04d\",\n",
    "#             \"id\": 803,\n",
    "#             \"main\": \"Clouds\"\n",
    "#         }\n",
    "#     ],\n",
    "#     \"wind\": {\n",
    "#         \"deg\": 319,\n",
    "#         \"gust\": 3.91,\n",
    "#         \"speed\": 3.45\n",
    "#     }\n",
    "# }"
   ]
  },
  {
   "cell_type": "code",
   "execution_count": null,
   "id": "8bd58348",
   "metadata": {},
   "outputs": [],
   "source": []
  }
 ],
 "metadata": {
  "kernelspec": {
   "display_name": "Python 3",
   "language": "python",
   "name": "python3"
  },
  "language_info": {
   "codemirror_mode": {
    "name": "ipython",
    "version": 3
   },
   "file_extension": ".py",
   "mimetype": "text/x-python",
   "name": "python",
   "nbconvert_exporter": "python",
   "pygments_lexer": "ipython3",
   "version": "3.8.8"
  }
 },
 "nbformat": 4,
 "nbformat_minor": 5
}
