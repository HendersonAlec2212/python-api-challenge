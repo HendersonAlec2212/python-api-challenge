{
 "cells": [
  {
   "cell_type": "markdown",
   "metadata": {},
   "source": [
    "# VacationPy\n",
    "----\n",
    "\n",
    "#### Note\n",
    "* Keep an eye on your API usage. Use https://developers.google.com/maps/reporting/gmp-reporting as reference for how to monitor your usage and billing.\n",
    "\n",
    "* Instructions have been included for each segment. You do not have to follow them exactly, but they are included to help you think through the steps."
   ]
  },
  {
   "cell_type": "code",
   "execution_count": 1,
   "metadata": {},
   "outputs": [
    {
     "data": {
      "text/plain": [
       "'C:\\\\Users\\\\Alec\\\\Documents\\\\Programming Resources\\\\Boot Camp\\\\06_API\\\\06_API_Homework\\\\VacationPy'"
      ]
     },
     "execution_count": 1,
     "metadata": {},
     "output_type": "execute_result"
    }
   ],
   "source": [
    "# Dependencies and Setup\n",
    "import matplotlib.pyplot as plt\n",
    "import pandas as pd\n",
    "import numpy as np\n",
    "import requests\n",
    "import gmaps\n",
    "import json\n",
    "import os\n",
    "\n",
    "# Import API key\n",
    "from config import google_api_key\n",
    "# you are here *\n",
    "os.getcwd()"
   ]
  },
  {
   "cell_type": "code",
   "execution_count": 2,
   "metadata": {},
   "outputs": [
    {
     "data": {
      "text/html": [
       "<div>\n",
       "<style scoped>\n",
       "    .dataframe tbody tr th:only-of-type {\n",
       "        vertical-align: middle;\n",
       "    }\n",
       "\n",
       "    .dataframe tbody tr th {\n",
       "        vertical-align: top;\n",
       "    }\n",
       "\n",
       "    .dataframe thead th {\n",
       "        text-align: right;\n",
       "    }\n",
       "</style>\n",
       "<table border=\"1\" class=\"dataframe\">\n",
       "  <thead>\n",
       "    <tr style=\"text-align: right;\">\n",
       "      <th></th>\n",
       "      <th>City</th>\n",
       "      <th>Latitude</th>\n",
       "      <th>Longitude</th>\n",
       "      <th>Max Temp</th>\n",
       "      <th>Humidity</th>\n",
       "      <th>Cloudiness</th>\n",
       "      <th>Wind Speed</th>\n",
       "      <th>Country</th>\n",
       "      <th>Date</th>\n",
       "    </tr>\n",
       "  </thead>\n",
       "  <tbody>\n",
       "    <tr>\n",
       "      <th>0</th>\n",
       "      <td>Mahébourg</td>\n",
       "      <td>-20.4081</td>\n",
       "      <td>57.7000</td>\n",
       "      <td>74.25</td>\n",
       "      <td>73</td>\n",
       "      <td>68</td>\n",
       "      <td>13.31</td>\n",
       "      <td>MU</td>\n",
       "      <td>1634594791</td>\n",
       "    </tr>\n",
       "    <tr>\n",
       "      <th>1</th>\n",
       "      <td>Punta Arenas</td>\n",
       "      <td>-53.1500</td>\n",
       "      <td>-70.9167</td>\n",
       "      <td>50.11</td>\n",
       "      <td>53</td>\n",
       "      <td>40</td>\n",
       "      <td>29.93</td>\n",
       "      <td>CL</td>\n",
       "      <td>1634594791</td>\n",
       "    </tr>\n",
       "    <tr>\n",
       "      <th>2</th>\n",
       "      <td>Rikitea</td>\n",
       "      <td>-23.1203</td>\n",
       "      <td>-134.9692</td>\n",
       "      <td>75.47</td>\n",
       "      <td>72</td>\n",
       "      <td>22</td>\n",
       "      <td>20.80</td>\n",
       "      <td>PF</td>\n",
       "      <td>1634594525</td>\n",
       "    </tr>\n",
       "    <tr>\n",
       "      <th>3</th>\n",
       "      <td>Cape Town</td>\n",
       "      <td>-33.9258</td>\n",
       "      <td>18.4232</td>\n",
       "      <td>60.12</td>\n",
       "      <td>58</td>\n",
       "      <td>0</td>\n",
       "      <td>3.00</td>\n",
       "      <td>ZA</td>\n",
       "      <td>1634594570</td>\n",
       "    </tr>\n",
       "    <tr>\n",
       "      <th>4</th>\n",
       "      <td>Bluff</td>\n",
       "      <td>-46.6000</td>\n",
       "      <td>168.3333</td>\n",
       "      <td>49.21</td>\n",
       "      <td>48</td>\n",
       "      <td>99</td>\n",
       "      <td>24.90</td>\n",
       "      <td>NZ</td>\n",
       "      <td>1634594791</td>\n",
       "    </tr>\n",
       "  </tbody>\n",
       "</table>\n",
       "</div>"
      ],
      "text/plain": [
       "           City  Latitude  Longitude  Max Temp  Humidity  Cloudiness  \\\n",
       "0     Mahébourg  -20.4081    57.7000     74.25        73          68   \n",
       "1  Punta Arenas  -53.1500   -70.9167     50.11        53          40   \n",
       "2       Rikitea  -23.1203  -134.9692     75.47        72          22   \n",
       "3     Cape Town  -33.9258    18.4232     60.12        58           0   \n",
       "4         Bluff  -46.6000   168.3333     49.21        48          99   \n",
       "\n",
       "   Wind Speed Country        Date  \n",
       "0       13.31      MU  1634594791  \n",
       "1       29.93      CL  1634594791  \n",
       "2       20.80      PF  1634594525  \n",
       "3        3.00      ZA  1634594570  \n",
       "4       24.90      NZ  1634594791  "
      ]
     },
     "execution_count": 2,
     "metadata": {},
     "output_type": "execute_result"
    }
   ],
   "source": [
    "# Load the csv exported in Part I to a DataFrame\n",
    "city_data_df = pd.read_csv(\"../WeatherPy/output_data/cities.csv\")\n",
    "city_data_df.head()"
   ]
  },
  {
   "cell_type": "markdown",
   "metadata": {},
   "source": [
    "### Humidity Heatmap"
   ]
  },
  {
   "cell_type": "code",
   "execution_count": 3,
   "metadata": {},
   "outputs": [],
   "source": [
    "#Configure gmaps. double check parameters\n",
    "gmaps.configure(api_key=google_api_key)"
   ]
  },
  {
   "cell_type": "code",
   "execution_count": 6,
   "metadata": {
    "scrolled": true
   },
   "outputs": [
    {
     "data": {
      "application/vnd.jupyter.widget-view+json": {
       "model_id": "5f3f2c3220f54bffab34144dfe73a990",
       "version_major": 2,
       "version_minor": 0
      },
      "text/plain": [
       "Figure(layout=FigureLayout(height='420px'))"
      ]
     },
     "metadata": {},
     "output_type": "display_data"
    }
   ],
   "source": [
    "# Use the Lat and Lng as locations \n",
    "# double [[]] for multi column action\n",
    "locations = city_data_df[['Latitude','Longitude']]\n",
    "\n",
    "# Humidity as the weight.\n",
    "weights = city_data_df['Humidity']\n",
    " \n",
    "# Use the Lat and Lng as locations and Humidity as the weight.\n",
    "# Add Heatmap layer to map.\n",
    "# https://jupyter-gmaps.readthedocs.io/en/latest/tutorial.html#heatmaps\n",
    "\n",
    "fig = gmaps.figure()\n",
    "\n",
    "heatmap_layer = gmaps.heatmap_layer(locations,weights, dissipating=True,)\n",
    "fig.add_layer(heatmap_layer)\n",
    "fig"
   ]
  },
  {
   "cell_type": "code",
   "execution_count": 6,
   "metadata": {},
   "outputs": [],
   "source": [
    "# To avoid re-drawing the whole map every time you tweak these settings, \n",
    "# set them in another notebook cell:\n",
    "\n",
    "heatmap_layer.max_intensity = 400\n",
    "heatmap_layer.point_radius = 5"
   ]
  },
  {
   "cell_type": "markdown",
   "metadata": {},
   "source": [
    "### Create new DataFrame fitting weather criteria"
   ]
  },
  {
   "cell_type": "code",
   "execution_count": null,
   "metadata": {},
   "outputs": [],
   "source": [
    "# Narrow down the cities to fit weather conditions.\n",
    "# Drop any rows will null values\n",
    "# look into line structure for pythonic conditonal statements\n",
    "# 2.1.5\n",
    "#https://docs.python.org/3/reference/lexical_analysis.html#line-structure\n",
    "\n",
    "narrow_city_df = city_data_df.loc[(city_data_df[\"Max Temp\"].between(70,80) \\\n",
    "                                   & (city_data_df[\"Wind Speed\"] < 10) \\\n",
    "                                   & (city_data_df[\"Cloudiness\"] == 0))].dropna()\n",
    "narrow_city_df"
   ]
  },
  {
   "cell_type": "markdown",
   "metadata": {},
   "source": [
    "# Hotel Map"
   ]
  },
  {
   "cell_type": "code",
   "execution_count": null,
   "metadata": {},
   "outputs": [],
   "source": [
    "# Store into variable named `hotel_df`.\n",
    "# Add a \"Hotel Name\" column to the DataFrame.\n",
    "\n",
    "# keep only the columns we need\n",
    "# df=old_df[['columns','you','want']] doesnt work | use .copy() to avoid \"setting with copy warning\"\n",
    "hotel_df = narrow_city_df[['City', 'Country', 'Latitude', 'Longitude']].copy()\n",
    "hotel_df['Hotel Name'] = ''\n",
    "hotel_df"
   ]
  },
  {
   "cell_type": "code",
   "execution_count": null,
   "metadata": {},
   "outputs": [],
   "source": []
  },
  {
   "cell_type": "code",
   "execution_count": null,
   "metadata": {},
   "outputs": [],
   "source": [
    "# https://developers.google.com/maps/documentation/places/web-service/search-nearby\n",
    "# https://developers.google.com/maps/documentation/places/web-service/supported_types\n",
    "# Set parameters to search for hotels with 5000 meters.\n",
    "\n",
    "params = {\n",
    "    'radius': 5000,\n",
    "    'key': google_api_key,\n",
    "    'type': 'lodging'\n",
    "}\n",
    "\n",
    "# Hit the Google Places API for each city's coordinates.\n",
    "# https://pandas.pydata.org/docs/reference/api/pandas.DataFrame.iterrows.html\n",
    "\n",
    "# loop through dataframe and set variable = values we need\n",
    "# look up try/except to make error resistant code like in example chapter 6.3\n",
    "for index,row in hotel_df.iterrows():\n",
    "    latitude = row['Latitude']\n",
    "    longitude = row['Longitude']\n",
    "    \n",
    "    # change the params dict per loop by creating a key:value inside loop\n",
    "    params['location'] = f'{latitude},{longitude}'\n",
    "    \n",
    "    # start API Call now that we have parameters\n",
    "    \n",
    "    # JSON view this call to make pathway for hotel_name\n",
    "    # print(json.dumps(response, indent=4, sort_keys=True))\n",
    "    base_url = \"https://maps.googleapis.com/maps/api/place/nearbysearch/json\"\n",
    "    response = requests.get(base_url, params=params).json()\n",
    "    hotel_name = response\n",
    "    \n",
    "# Store the first Hotel result into the DataFrame.\n",
    "    try:\n",
    "        # set index as row value in loc\n",
    "        hotel_df.loc[index, 'Hotel Name'] = hotel_name['results'][0]['name']\n",
    "\n",
    "    except(IndexError, KeyError):\n",
    "        print(\"Nothing Found... Moving on.\")\n",
    "\n",
    "        \n",
    "hotel_df"
   ]
  },
  {
   "cell_type": "code",
   "execution_count": null,
   "metadata": {},
   "outputs": [],
   "source": [
    "# NOTE: Do not change any of the code in this cell\n",
    "\n",
    "# Using the template add the hotel marks to the heatmap\n",
    "info_box_template = \"\"\"\n",
    "<dl>\n",
    "<dt>Name</dt><dd>{Hotel Name}</dd>\n",
    "<dt>City</dt><dd>{City}</dd>\n",
    "<dt>Country</dt><dd>{Country}</dd>\n",
    "</dl>\n",
    "\"\"\"\n",
    "# Store the DataFrame Row\n",
    "# NOTE: be sure to update with your DataFrame name\n",
    "hotel_info = [info_box_template.format(**row) for index, row in hotel_df.iterrows()]\n",
    "locations = hotel_df[[\"Latitude\", \"Longitude\"]]"
   ]
  },
  {
   "cell_type": "code",
   "execution_count": null,
   "metadata": {},
   "outputs": [],
   "source": [
    "# Add marker layer ontop of heat map\n",
    "marker_layer = gmaps.marker_layer(locations, info_box_content=hotel_info)\n",
    "fig.add_layer(marker_layer)\n",
    "\n",
    "# Display figure\n",
    "fig"
   ]
  },
  {
   "cell_type": "code",
   "execution_count": null,
   "metadata": {},
   "outputs": [],
   "source": []
  }
 ],
 "metadata": {
  "kernelspec": {
   "display_name": "Python 3",
   "language": "python",
   "name": "python3"
  },
  "language_info": {
   "codemirror_mode": {
    "name": "ipython",
    "version": 3
   },
   "file_extension": ".py",
   "mimetype": "text/x-python",
   "name": "python",
   "nbconvert_exporter": "python",
   "pygments_lexer": "ipython3",
   "version": "3.8.8"
  },
  "latex_envs": {
   "LaTeX_envs_menu_present": true,
   "autoclose": false,
   "autocomplete": true,
   "bibliofile": "biblio.bib",
   "cite_by": "apalike",
   "current_citInitial": 1,
   "eqLabelWithNumbers": true,
   "eqNumInitial": 1,
   "hotkeys": {
    "equation": "Ctrl-E",
    "itemize": "Ctrl-I"
   },
   "labels_anchors": false,
   "latex_user_defs": false,
   "report_style_numbering": false,
   "user_envs_cfg": false
  }
 },
 "nbformat": 4,
 "nbformat_minor": 4
}
